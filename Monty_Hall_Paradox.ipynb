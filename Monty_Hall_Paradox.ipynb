{
  "nbformat": 4,
  "nbformat_minor": 0,
  "metadata": {
    "colab": {
      "name": "Monty Hall Paradox.ipynb",
      "provenance": [],
      "collapsed_sections": [
        "BZPHufyp7XCU",
        "4U3zZA2O67hU"
      ],
      "authorship_tag": "ABX9TyNns0ZclDhbfAuww27hXk1+",
      "include_colab_link": true
    },
    "kernelspec": {
      "name": "python3",
      "display_name": "Python 3"
    },
    "language_info": {
      "name": "python"
    }
  },
  "cells": [
    {
      "cell_type": "markdown",
      "metadata": {
        "id": "view-in-github",
        "colab_type": "text"
      },
      "source": [
        "<a href=\"https://colab.research.google.com/github/Giulianos/monty-hall-paradox/blob/main/Monty_Hall_Paradox.ipynb\" target=\"_parent\"><img src=\"https://colab.research.google.com/assets/colab-badge.svg\" alt=\"Open In Colab\"/></a>"
      ]
    },
    {
      "cell_type": "markdown",
      "source": [
        "# Monty Hall Paradox Simulation\n",
        "\n",
        "> Suppose you're on a game show, and you're given the choice of three doors: Behind one door is a car; behind the others, goats. You pick a door, say No. 1, and the host, who knows what's behind the doors, opens another door, say No. 3, which has a goat. He then says to you, \"Do you want to pick door No. 2?\" Is it to your advantage to switch your choice?"
      ],
      "metadata": {
        "id": "KvWt-qJU7SEQ"
      }
    },
    {
      "cell_type": "markdown",
      "source": [
        "## Simulation parameters"
      ],
      "metadata": {
        "id": "BZPHufyp7XCU"
      }
    },
    {
      "cell_type": "markdown",
      "source": [
        ""
      ],
      "metadata": {
        "id": "7U4oazed9702"
      }
    },
    {
      "cell_type": "code",
      "source": [
        "experiment_runs = 10000\n",
        "door_quantity = 3"
      ],
      "metadata": {
        "id": "chrmTzsAsFRb"
      },
      "execution_count": 1,
      "outputs": []
    },
    {
      "cell_type": "markdown",
      "source": [
        "## Helper functions"
      ],
      "metadata": {
        "id": "4U3zZA2O67hU"
      }
    },
    {
      "cell_type": "code",
      "source": [
        "import numpy as np"
      ],
      "metadata": {
        "id": "Z_4HycjA8CEY"
      },
      "execution_count": 2,
      "outputs": []
    },
    {
      "cell_type": "code",
      "source": [
        "def create_doors(quantity):\n",
        "  return [{'id': i, 'has_price': False, 'is_open': False, 'is_chosen': False} for i in range(quantity)]"
      ],
      "metadata": {
        "id": "ZHHR1lexyDhb"
      },
      "execution_count": 3,
      "outputs": []
    },
    {
      "cell_type": "code",
      "source": [
        "def place_price(doors):\n",
        "  np.random.choice(doors)['has_price'] = True\n",
        "  return doors"
      ],
      "metadata": {
        "id": "aTQzQF_Gxqk9"
      },
      "execution_count": 4,
      "outputs": []
    },
    {
      "cell_type": "code",
      "source": [
        "def choose_random_door(doors):\n",
        "  choice = np.random.choice(doors)\n",
        "  choice['is_chosen'] = True\n",
        "  return choice"
      ],
      "metadata": {
        "id": "oPtLM4Xlztcy"
      },
      "execution_count": 5,
      "outputs": []
    },
    {
      "cell_type": "code",
      "source": [
        "def get_openable_doors(doors):\n",
        "  return [door for door in filter(lambda door: not door['has_price'] and not door['is_chosen'], doors)]"
      ],
      "metadata": {
        "id": "wWiemfAY0Dsr"
      },
      "execution_count": 6,
      "outputs": []
    },
    {
      "cell_type": "code",
      "source": [
        "def get_closed_doors(doors):\n",
        "  return [door for door in filter(lambda door: not door['is_open'], doors)]"
      ],
      "metadata": {
        "id": "XBXfNHmi5bV5"
      },
      "execution_count": 7,
      "outputs": []
    },
    {
      "cell_type": "code",
      "source": [
        "def open_doors(doors):\n",
        "  openable_doors = get_openable_doors(doors)\n",
        "  for openable_door in np.random.choice(openable_doors, len(doors)-2, replace=False):\n",
        "    openable_door['is_open'] = True\n",
        "  return doors"
      ],
      "metadata": {
        "id": "0EOuvfjRzNyN"
      },
      "execution_count": 8,
      "outputs": []
    },
    {
      "cell_type": "code",
      "source": [
        "def switch_choice(doors):\n",
        "  closed_doors = get_closed_doors(doors)\n",
        "  if len(closed_doors) != 2:\n",
        "    raise Exception(\"There must be only 2 closed doors to choose from\")\n",
        "  if closed_doors[0]['is_chosen']:\n",
        "    closed_doors[0]['is_chosen'] = False\n",
        "    closed_doors[1]['is_chosen'] = True\n",
        "    return closed_doors[1]\n",
        "  else:\n",
        "    closed_doors[0]['is_chosen'] = True\n",
        "    closed_doors[1]['is_chosen'] = False\n",
        "    return closed_doors[0]"
      ],
      "metadata": {
        "id": "s3VwEpWe5UP9"
      },
      "execution_count": 9,
      "outputs": []
    },
    {
      "cell_type": "code",
      "source": [
        "def run_experiment(experiment, iterations):\n",
        "  success_count = 0\n",
        "  for iteration in range(iterations):\n",
        "    if experiment():\n",
        "      success_count += 1\n",
        "  return success_count/iterations"
      ],
      "metadata": {
        "id": "euc7aC7F8n-E"
      },
      "execution_count": 10,
      "outputs": []
    },
    {
      "cell_type": "markdown",
      "source": [
        "## Experiment A (don't switch choice)\n",
        "\n",
        "  - Put the price on a random door\n",
        "  - Make a random choice\n",
        "  - Always maintain the first choice"
      ],
      "metadata": {
        "id": "k3p5Xs5x62sS"
      }
    },
    {
      "cell_type": "code",
      "execution_count": 11,
      "metadata": {
        "id": "U0wy9Qi6qWne"
      },
      "outputs": [],
      "source": [
        "def experiment_a():\n",
        "  doors = place_price(create_doors(door_quantity))\n",
        "  choice = choose_random_door(doors)\n",
        "  return choice['has_price']"
      ]
    },
    {
      "cell_type": "markdown",
      "source": [
        "## Experiment B (switch choice)\n",
        "  - Put the price on a random door\n",
        "  - Make a random choice\n",
        "  - Open all doors without prices leaving only two posible choices\n",
        "  - Always switch the choice to the other closed door"
      ],
      "metadata": {
        "id": "jcf_7Oy_7EgK"
      }
    },
    {
      "cell_type": "code",
      "source": [
        "def experiment_b():\n",
        "  doors = place_price(create_doors(door_quantity))\n",
        "  choice = choose_random_door(doors)\n",
        "  open_doors(doors)\n",
        "  choice = switch_choice(doors)\n",
        "  return choice['has_price']"
      ],
      "metadata": {
        "id": "J4w-crtKsm1f"
      },
      "execution_count": 12,
      "outputs": []
    },
    {
      "cell_type": "markdown",
      "source": [
        "## Results"
      ],
      "metadata": {
        "id": "wfBXnEkv8Ls3"
      }
    },
    {
      "cell_type": "code",
      "source": [
        "for experiment in [experiment_a, experiment_b]:\n",
        "  print('{} success rate: {:.2f}%'.format(experiment.__name__, run_experiment(experiment, experiment_runs)*100))"
      ],
      "metadata": {
        "colab": {
          "base_uri": "https://localhost:8080/"
        },
        "id": "I0Jqij4e8NcY",
        "outputId": "6f799433-56c9-4df7-ac2a-7028563cc8e8"
      },
      "execution_count": 23,
      "outputs": [
        {
          "output_type": "stream",
          "name": "stdout",
          "text": [
            "experiment_a success rate: 33.62%\n",
            "experiment_b success rate: 67.26%\n"
          ]
        }
      ]
    }
  ]
}